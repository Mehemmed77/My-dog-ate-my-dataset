{
 "cells": [
  {
   "cell_type": "code",
   "execution_count": null,
   "metadata": {},
   "outputs": [],
   "source": [
    "import pandas as pd\n",
    "import numpy as np\n",
    "import matplotlib.pyplot as plt\n",
    "import seaborn as sns\n",
    "sns.set(style=\"whitegrid\")"
   ]
  },
  {
   "cell_type": "code",
   "execution_count": null,
   "metadata": {},
   "outputs": [],
   "source": [
    "df = pd.read_csv(\"./netflix_titles.csv\", encoding='ISO-8859-1')\n",
    "df.head()"
   ]
  },
  {
   "cell_type": "code",
   "execution_count": null,
   "metadata": {},
   "outputs": [],
   "source": [
    "df.drop(columns=[col for col in df.columns if 'Unnamed' in col], inplace=True)\n",
    "df.dropna(subset=['country', 'rating'], inplace=True)  # Dropping rows where 'country' or 'rating' is missing"
   ]
  },
  {
   "cell_type": "code",
   "execution_count": null,
   "metadata": {},
   "outputs": [],
   "source": [
    "# Plotting the distribution of Movies vs. TV Shows\n",
    "\n",
    "plt.figure(figsize=(10, 6))\n",
    "sns.countplot(data=df, x='type')\n",
    "plt.title('Distribution of Netflix Content Types')\n",
    "plt.xlabel('Content Type')\n",
    "plt.ylabel('Count')\n",
    "plt.show()"
   ]
  },
  {
   "cell_type": "code",
   "execution_count": null,
   "metadata": {},
   "outputs": [],
   "source": [
    "#Distribution of Relase years\n",
    "\n",
    "plt.hist(df['release_year'], bins=10, edgecolor='black')\n",
    "plt.title('Analyzing Distribution of Release Years for Titles on Netflix')\n",
    "plt.xlabel('Release Year')\n",
    "plt.ylabel('Count')\n",
    "plt.xticks(rotation=45)\n",
    "plt.tight_layout()\n",
    "plt.show()\n",
    "\n"
   ]
  },
  {
   "cell_type": "code",
   "execution_count": null,
   "metadata": {},
   "outputs": [],
   "source": [
    "# Analyze top countries contributing content\n",
    "top_countries = df['country'].str.split(', ').explode().value_counts().head(10)\n",
    "top_countries.plot(kind='barh', figsize=(10, 6))\n",
    "plt.title('Top 10 Countries Contributing to Netflix Content')\n",
    "plt.xlabel('Number of Titles')\n",
    "plt.ylabel('Country')\n",
    "plt.gca().invert_yaxis()\n",
    "plt.show()\n"
   ]
  },
  {
   "cell_type": "code",
   "execution_count": null,
   "metadata": {},
   "outputs": [],
   "source": [
    "def extract_minutes(duration_str):\n",
    "  # Extract and convert to int (handle potential errors)\n",
    "  try:\n",
    "    if(type(duration_str) != float):\n",
    "      return int(duration_str.split()[0])\n",
    "  except ValueError:\n",
    "    return 0  # Or handle errors differently (e.g., raise exception)\n",
    "\n",
    "movies_df = df[df['type'] == 'Movie']  # Filter for movies (if applicable)\n",
    "movies_df['duration_minutes'] = movies_df['duration'].apply(extract_minutes)\n",
    "\n",
    "# Plot the histogram using the new numeric column\n",
    "plt.hist(movies_df['duration_minutes'], bins=30, edgecolor='black')\n",
    "plt.xticks(range(int(min(movies_df['duration_minutes'])), int(max(movies_df['duration_minutes'])) + 1, 20))\n",
    "# Prepare the plot\n",
    "plt.title('Distribution of Movie Runtimes on Netflix (in minutes)')\n",
    "plt.xlabel('Runtime (minutes)')\n",
    "plt.ylabel('Number of Movies')\n",
    "plt.xticks(rotation=45)\n",
    "plt.tight_layout()\n",
    "plt.show()\n"
   ]
  },
  {
   "cell_type": "code",
   "execution_count": null,
   "metadata": {},
   "outputs": [],
   "source": [
    "def clean_and_explode(data, col):\n",
    "    return data[col].str.split(', ').explode().value_counts()\n",
    "\n",
    "plt.figure(figsize=(14, 8))\n",
    "movies_genres = clean_and_explode(df[df['type'] == 'Movie'], 'listed_in')\n",
    "tv_genres = clean_and_explode(df[df['type'] == 'TV Show'], 'listed_in')\n",
    "movies_genres.head(10).plot(kind='bar', position=1, color='blue', width=0.4, label='Movies', alpha=0.7)\n",
    "tv_genres.head(10).plot(kind='bar', position=0, color='green', width=0.4, label='TV Shows', alpha=0.7)\n",
    "plt.title('Top 10 Popular Genres for Movies and TV Shows')\n",
    "plt.xlabel('Genre')\n",
    "plt.ylabel('Frequency')\n",
    "plt.legend()\n",
    "plt.xticks(rotation=45)\n",
    "plt.show()"
   ]
  },
  {
   "cell_type": "code",
   "execution_count": null,
   "metadata": {},
   "outputs": [],
   "source": [
    "content_by_country = df.groupby(['country', 'type']).size().unstack(fill_value=0)\n",
    "\n",
    "top_n_countries = 10\n",
    "content_by_country = content_by_country.nlargest(top_n_countries, 'Movie')\n",
    "\n",
    "content_by_country.plot(kind='bar', stacked=True, figsize=(14, 7))\n",
    "plt.title('Distribution of Content Types by Top Countries')\n",
    "plt.xlabel('Country')\n",
    "plt.ylabel('Count')\n",
    "plt.xticks(rotation=45)\n",
    "plt.show()\n"
   ]
  }
 ],
 "metadata": {
  "language_info": {
   "name": "python"
  }
 },
 "nbformat": 4,
 "nbformat_minor": 2
}
